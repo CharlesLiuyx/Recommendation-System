{
 "cells": [
  {
   "cell_type": "code",
   "execution_count": 1,
   "metadata": {
    "collapsed": true
   },
   "outputs": [],
   "source": [
    "import numpy as np\n",
    "import pandas as pd"
   ]
  },
  {
   "cell_type": "code",
   "execution_count": 4,
   "metadata": {},
   "outputs": [
    {
     "name": "stdout",
     "output_type": "stream",
     "text": [
      " 驱动器 C 中的卷是 Windows\n",
      " 卷的序列号是 7A7E-AB1D\n",
      "\n",
      " C:\\GoogleDrive\\Bittiger\\Project_RecommenderSystem 的目录\n",
      "\n",
      "2017/11/30  14:56    <DIR>          .\n",
      "2017/11/30  14:56    <DIR>          ..\n",
      "2017/11/30  13:54    <DIR>          .idea\n",
      "2017/11/18  10:33    <DIR>          .ipynb_checkpoints\n",
      "2017/09/20  17:27    <DIR>          DATA\n",
      "2017/09/20  21:53             2,466 DatabaseInterface.py\n",
      "2017/09/21  14:49    <DIR>          Learners\n",
      "2017/09/20  21:53             1,536 main.py\n",
      "2017/09/21  14:49    <DIR>          Models\n",
      "2017/09/20  21:53             2,014 ModelStore.py\n",
      "2017/11/30  14:56             5,907 Preprocessing.ipynb\n",
      "2017/09/20  21:53             2,614 Ranker.py\n",
      "2017/09/20  21:53               500 README.md\n",
      "2017/09/20  21:53             1,899 RecEngine.py\n",
      "2017/09/20  21:53               940 UserAnalyzer.py\n",
      "2017/09/20  21:53             3,331 Webserver.py\n",
      "               9 个文件         21,207 字节\n",
      "               7 个目录 14,809,636,864 可用字节\n"
     ]
    }
   ],
   "source": [
    "ls"
   ]
  },
  {
   "cell_type": "code",
   "execution_count": 5,
   "metadata": {},
   "outputs": [
    {
     "name": "stdout",
     "output_type": "stream",
     "text": [
      "C:\\GoogleDrive\\Bittiger\\Project_RecommenderSystem\\DATA\n"
     ]
    }
   ],
   "source": [
    "cd DATA"
   ]
  },
  {
   "cell_type": "code",
   "execution_count": 6,
   "metadata": {},
   "outputs": [
    {
     "name": "stderr",
     "output_type": "stream",
     "text": [
      "'head' 不是内部或外部命令，也不是可运行的程序\n",
      "或批处理文件。\n"
     ]
    }
   ],
   "source": [
    "!head u.user"
   ]
  },
  {
   "cell_type": "code",
   "execution_count": null,
   "metadata": {
    "collapsed": true
   },
   "outputs": [],
   "source": [
    "names = ['user_id','age','gender','occupation','zipcode']\n",
    "userDf = pd.read_csv('u.user',sep='|',names=names, index_col=0) \n",
    "userDf = userDf.loc[:, 'age':'occupation']"
   ]
  },
  {
   "cell_type": "code",
   "execution_count": null,
   "metadata": {},
   "outputs": [],
   "source": [
    "userDf = pd.get_dummies(userDf)\n",
    "userDf.head()"
   ]
  },
  {
   "cell_type": "code",
   "execution_count": null,
   "metadata": {
    "collapsed": true
   },
   "outputs": [],
   "source": [
    "userDf.to_csv(\"DATA/userFeature.csv\")"
   ]
  },
  {
   "cell_type": "code",
   "execution_count": null,
   "metadata": {},
   "outputs": [],
   "source": [
    "!cat u.genre"
   ]
  },
  {
   "cell_type": "code",
   "execution_count": null,
   "metadata": {},
   "outputs": [],
   "source": [
    "!head u.item"
   ]
  },
  {
   "cell_type": "code",
   "execution_count": null,
   "metadata": {
    "collapsed": true
   },
   "outputs": [],
   "source": [
    "genreNames = pd.read_csv('u.genre',sep='|', index_col=0, names=[\"name\",\"index\"]).index.tolist()"
   ]
  },
  {
   "cell_type": "code",
   "execution_count": null,
   "metadata": {},
   "outputs": [],
   "source": [
    "itemFeatureDf = pd.read_csv('u.item',sep='\\|\\|?', index_col=0, names=[\"itemId\",\"itemName\",\"Date\",\"URL\"]+genreNames)"
   ]
  },
  {
   "cell_type": "code",
   "execution_count": null,
   "metadata": {
    "scrolled": true
   },
   "outputs": [],
   "source": [
    "itemFeatureDf[itemFeatureDf.isnull().any(axis=1)]"
   ]
  },
  {
   "cell_type": "code",
   "execution_count": null,
   "metadata": {},
   "outputs": [],
   "source": [
    "itemFeatureDf = itemFeatureDf.drop(267)\n",
    "itemFeatureDf.isnull().any()"
   ]
  },
  {
   "cell_type": "code",
   "execution_count": null,
   "metadata": {
    "collapsed": true
   },
   "outputs": [],
   "source": [
    "itemFeatureDf.to_csv(\"DATA/itemFeature.csv\")"
   ]
  },
  {
   "cell_type": "code",
   "execution_count": null,
   "metadata": {
    "collapsed": true
   },
   "outputs": [],
   "source": [
    "itemFeatureDf.loc[:,[\"itemName\"]].to_csv(\"DATA/inventory.csv\")"
   ]
  },
  {
   "cell_type": "code",
   "execution_count": null,
   "metadata": {},
   "outputs": [],
   "source": [
    "!head u.data"
   ]
  },
  {
   "cell_type": "code",
   "execution_count": null,
   "metadata": {
    "collapsed": true
   },
   "outputs": [],
   "source": [
    "names = ['user_id','item_id','rating','timestamp']\n",
    "dataDf = pd.read_csv('u.data',sep='\\t',names=names)"
   ]
  },
  {
   "cell_type": "code",
   "execution_count": null,
   "metadata": {
    "collapsed": true
   },
   "outputs": [],
   "source": [
    "dataDf = dataDf.drop('timestamp',1)"
   ]
  },
  {
   "cell_type": "code",
   "execution_count": null,
   "metadata": {
    "collapsed": true
   },
   "outputs": [],
   "source": [
    "# remove test users from training users"
   ]
  },
  {
   "cell_type": "code",
   "execution_count": null,
   "metadata": {
    "collapsed": true
   },
   "outputs": [],
   "source": [
    "userTrainIndex = userDf.sample(frac = 0.90).index\n",
    "dataDf_train = dataDf[dataDf.user_id.isin(userTrainIndex.tolist())]"
   ]
  },
  {
   "cell_type": "code",
   "execution_count": null,
   "metadata": {},
   "outputs": [],
   "source": [
    "print dataDf.shape\n",
    "print dataDf_train.shape"
   ]
  },
  {
   "cell_type": "code",
   "execution_count": null,
   "metadata": {
    "collapsed": true
   },
   "outputs": [],
   "source": [
    "dataDf_test = dataDf.drop(dataDf_train.index)"
   ]
  },
  {
   "cell_type": "code",
   "execution_count": null,
   "metadata": {},
   "outputs": [],
   "source": [
    "print dataDf_test.shape"
   ]
  },
  {
   "cell_type": "code",
   "execution_count": null,
   "metadata": {
    "collapsed": true
   },
   "outputs": [],
   "source": [
    "dataDf_train.to_csv('DATA/ratings_train.csv')\n",
    "dataDf_test.to_csv('DATA/ratings_test.csv')\n",
    "dataDf.to_csv('DATA/ratings.csv')"
   ]
  },
  {
   "cell_type": "code",
   "execution_count": null,
   "metadata": {},
   "outputs": [],
   "source": [
    "dataDf_train.head()"
   ]
  },
  {
   "cell_type": "code",
   "execution_count": null,
   "metadata": {
    "collapsed": true
   },
   "outputs": [],
   "source": []
  }
 ],
 "metadata": {
  "anaconda-cloud": {},
  "kernelspec": {
   "display_name": "Python 3",
   "language": "python",
   "name": "python3"
  },
  "language_info": {
   "codemirror_mode": {
    "name": "ipython",
    "version": 3
   },
   "file_extension": ".py",
   "mimetype": "text/x-python",
   "name": "python",
   "nbconvert_exporter": "python",
   "pygments_lexer": "ipython3",
   "version": "3.6.1"
  }
 },
 "nbformat": 4,
 "nbformat_minor": 1
}
